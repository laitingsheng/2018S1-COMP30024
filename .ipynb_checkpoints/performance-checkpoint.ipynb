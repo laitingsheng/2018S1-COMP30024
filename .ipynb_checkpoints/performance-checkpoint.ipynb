{
 "cells": [
  {
   "cell_type": "code",
   "execution_count": 1,
   "metadata": {},
   "outputs": [
    {
     "name": "stderr",
     "output_type": "stream",
     "text": [
      "c:\\users\\laitingsheng\\appdata\\local\\programs\\python\\python36\\lib\\site-packages\\h5py\\__init__.py:36: FutureWarning: Conversion of the second argument of issubdtype from `float` to `np.floating` is deprecated. In future, it will be treated as `np.float64 == np.dtype(float).type`.\n",
      "  from ._conv import register_converters as _register_converters\n",
      "Using TensorFlow backend.\n"
     ]
    }
   ],
   "source": [
    "import json\n",
    "import numpy as np\n",
    "from keras.models import model_from_json\n",
    "from Pretrained import PlaceModel, MoveModel"
   ]
  },
  {
   "cell_type": "code",
   "execution_count": 4,
   "metadata": {},
   "outputs": [
    {
     "name": "stdout",
     "output_type": "stream",
     "text": [
      "--------Test Correctness--------\n",
      "1.01 ms ± 79.2 µs per loop (mean ± std. dev. of 7 runs, 1000 loops each)\n",
      "46.6 µs ± 5 µs per loop (mean ± std. dev. of 7 runs, 10000 loops each)\n",
      "2.31 ms ± 27.2 µs per loop (mean ± std. dev. of 7 runs, 100 loops each)\n",
      "2.06 ms ± 121 µs per loop (mean ± std. dev. of 7 runs, 1000 loops each)\n"
     ]
    },
    {
     "ename": "TypeError",
     "evalue": "unsupported operand type(s) for -: 'NoneType' and 'NoneType'",
     "output_type": "error",
     "traceback": [
      "\u001b[1;31m---------------------------------------------------------------------------\u001b[0m",
      "\u001b[1;31mTypeError\u001b[0m                                 Traceback (most recent call last)",
      "\u001b[1;32m<ipython-input-4-e3d8279a2310>\u001b[0m in \u001b[0;36m<module>\u001b[1;34m()\u001b[0m\n\u001b[0;32m     23\u001b[0m \u001b[0mget_ipython\u001b[0m\u001b[1;33m(\u001b[0m\u001b[1;33m)\u001b[0m\u001b[1;33m.\u001b[0m\u001b[0mrun_line_magic\u001b[0m\u001b[1;33m(\u001b[0m\u001b[1;34m'timeit'\u001b[0m\u001b[1;33m,\u001b[0m \u001b[1;34m'm = mmodel.predict(board)'\u001b[0m\u001b[1;33m)\u001b[0m\u001b[1;33m\u001b[0m\u001b[0m\n\u001b[0;32m     24\u001b[0m \u001b[0mget_ipython\u001b[0m\u001b[1;33m(\u001b[0m\u001b[1;33m)\u001b[0m\u001b[1;33m.\u001b[0m\u001b[0mrun_line_magic\u001b[0m\u001b[1;33m(\u001b[0m\u001b[1;34m'timeit'\u001b[0m\u001b[1;33m,\u001b[0m \u001b[1;34m'npm = npmmodel.predict(board)'\u001b[0m\u001b[1;33m)\u001b[0m\u001b[1;33m\u001b[0m\u001b[0m\n\u001b[1;32m---> 25\u001b[1;33m \u001b[0mprint\u001b[0m\u001b[1;33m(\u001b[0m\u001b[0mp\u001b[0m \u001b[1;33m-\u001b[0m \u001b[0mnpp\u001b[0m\u001b[1;33m)\u001b[0m\u001b[1;33m\u001b[0m\u001b[0m\n\u001b[0m\u001b[0;32m     26\u001b[0m \u001b[0mprint\u001b[0m\u001b[1;33m(\u001b[0m\u001b[0mm\u001b[0m \u001b[1;33m-\u001b[0m \u001b[0mnpm\u001b[0m\u001b[1;33m)\u001b[0m\u001b[1;33m\u001b[0m\u001b[0m\n\u001b[0;32m     27\u001b[0m \u001b[0mprint\u001b[0m\u001b[1;33m(\u001b[0m\u001b[1;33m)\u001b[0m\u001b[1;33m\u001b[0m\u001b[0m\n",
      "\u001b[1;31mTypeError\u001b[0m: unsupported operand type(s) for -: 'NoneType' and 'NoneType'"
     ]
    }
   ],
   "source": [
    "with open('./temp/place_config.json', 'r') as f:\n",
    "    pmodel = model_from_json(json.load(f))\n",
    "pmodel.load_weights('./temp/place_weights_best.h5')\n",
    "for i, weights in enumerate(pmodel.get_weights()):\n",
    "    np.save(f\"./pretrained/place_weights_{i}\", weights)\n",
    "\n",
    "with open('./temp/move_config.json', 'r') as f:\n",
    "    mmodel = model_from_json(json.load(f))\n",
    "mmodel.load_weights('./temp/move_weights_best.h5')\n",
    "for i, weights in enumerate(mmodel.get_weights()):\n",
    "    np.save(f\"./pretrained/move_weights_{i}\", weights)\n",
    "\n",
    "nppmodel = PlaceModel()\n",
    "npmmodel = MoveModel()\n",
    "print('-' * 8 + \"Test Correctness\" + '-' * 8)\n",
    "board = np.zeros((8, 8), np.int8)\n",
    "board[3, 3] = 1\n",
    "board[4, 4] = -1\n",
    "board = board.reshape((1, 64))\n",
    "a = [0] * 4\n",
    "%timeit a[0] = pmodel.predict(board)\n",
    "%timeit a[1] = nppmodel.predict(board)\n",
    "%timeit a[2] = mmodel.predict(board)\n",
    "%timeit a[3] = npmmodel.predict(board)\n",
    "print(a[0] - a[1])\n",
    "print(a[2] - a[3])\n",
    "print()"
   ]
  },
  {
   "cell_type": "code",
   "execution_count": null,
   "metadata": {},
   "outputs": [],
   "source": []
  }
 ],
 "metadata": {
  "kernelspec": {
   "display_name": "Python 3",
   "language": "python",
   "name": "python3"
  },
  "language_info": {
   "codemirror_mode": {
    "name": "ipython",
    "version": 3
   },
   "file_extension": ".py",
   "mimetype": "text/x-python",
   "name": "python",
   "nbconvert_exporter": "python",
   "pygments_lexer": "ipython3",
   "version": "3.6.5"
  }
 },
 "nbformat": 4,
 "nbformat_minor": 2
}
